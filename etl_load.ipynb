{
 "cells": [
  {
   "cell_type": "markdown",
   "metadata": {},
   "source": [
    "ETL Load Phase\n",
    "1. Load the Transformed Data"
   ]
  },
  {
   "cell_type": "code",
   "execution_count": 1,
   "metadata": {},
   "outputs": [],
   "source": [
    "import pandas as pd\n",
    "raw_df = pd.read_csv('transformed/transformed_full.csv')\n",
    "inc_df = pd.read_csv('transformed/transformed_incremental.csv')"
   ]
  },
  {
   "cell_type": "markdown",
   "metadata": {},
   "source": [
    "2. Load into SQLite"
   ]
  },
  {
   "cell_type": "code",
   "execution_count": 2,
   "metadata": {},
   "outputs": [
    {
     "data": {
      "text/plain": [
       "10"
      ]
     },
     "execution_count": 2,
     "metadata": {},
     "output_type": "execute_result"
    }
   ],
   "source": [
    "import sqlite3\n",
    "conn = sqlite3.connect('loaded/full_data.db')\n",
    "raw_df.to_sql('full_data', conn, if_exists='replace', index=False)\n",
    "inc_df.to_sql('incremental_data', conn, if_exists='replace', index=False)"
   ]
  },
  {
   "cell_type": "markdown",
   "metadata": {},
   "source": [
    "3. Preview Data in SQLite"
   ]
  },
  {
   "cell_type": "code",
   "execution_count": 3,
   "metadata": {},
   "outputs": [
    {
     "name": "stdout",
     "output_type": "stream",
     "text": [
      "   order_id customer_name product  quantity  unit_price  order_date region  \\\n",
      "0         1         Diana  Tablet       NaN       500.0  2024-01-20  South   \n",
      "1         2           Eve  Laptop       NaN         NaN  2024-04-29  North   \n",
      "2         3       Charlie  Laptop       2.0       250.0  2024-01-08   None   \n",
      "3         4           Eve  Laptop       2.0       750.0  2024-01-07   West   \n",
      "4         5           Eve  Tablet       3.0         NaN  2024-03-07  South   \n",
      "\n",
      "   total_price  order_month  \n",
      "0          NaN          1.0  \n",
      "1          NaN          4.0  \n",
      "2        500.0          1.0  \n",
      "3       1500.0          1.0  \n",
      "4          NaN          3.0  \n",
      "   order_id customer_name product  quantity  unit_price  order_date   region\n",
      "0       101         Alice  Laptop       NaN       900.0  2024-05-09  Central\n",
      "1       102          None  Laptop       1.0       300.0  2024-05-07  Central\n",
      "2       103          None  Laptop       1.0       600.0  2024-05-04  Central\n",
      "3       104          None  Tablet       NaN       300.0  2024-05-26  Central\n",
      "4       105         Heidi  Tablet       2.0       600.0  2024-05-21    North\n"
     ]
    }
   ],
   "source": [
    "print(pd.read_sql('SELECT * FROM full_data LIMIT 5', conn))\n",
    "print(pd.read_sql('SELECT * FROM incremental_data LIMIT 5', conn))"
   ]
  },
  {
   "cell_type": "markdown",
   "metadata": {},
   "source": [
    "4. Load into Parquet (optional)\n"
   ]
  },
  {
   "cell_type": "code",
   "execution_count": 5,
   "metadata": {},
   "outputs": [],
   "source": [
    "import pandas as pd\n",
    "raw_df = pd.read_csv('transformed/transformed_full.csv')\n",
    "inc_df = pd.read_csv('transformed/transformed_incremental.csv')"
   ]
  },
  {
   "cell_type": "code",
   "execution_count": 6,
   "metadata": {},
   "outputs": [],
   "source": [
    "raw_df.to_parquet('loaded/full_data.parquet')\n",
    "inc_df.to_parquet('loaded/incremental_data.parquet')"
   ]
  },
  {
   "cell_type": "markdown",
   "metadata": {},
   "source": [
    "5. Preview Data in Parquet"
   ]
  },
  {
   "cell_type": "code",
   "execution_count": 7,
   "metadata": {},
   "outputs": [
    {
     "name": "stdout",
     "output_type": "stream",
     "text": [
      "   order_id customer_name product  quantity  unit_price  order_date region  \\\n",
      "0         1         Diana  Tablet       NaN       500.0  2024-01-20  South   \n",
      "1         2           Eve  Laptop       NaN         NaN  2024-04-29  North   \n",
      "2         3       Charlie  Laptop       2.0       250.0  2024-01-08   None   \n",
      "3         4           Eve  Laptop       2.0       750.0  2024-01-07   West   \n",
      "4         5           Eve  Tablet       3.0         NaN  2024-03-07  South   \n",
      "\n",
      "   total_price  order_month  \n",
      "0          NaN          1.0  \n",
      "1          NaN          4.0  \n",
      "2        500.0          1.0  \n",
      "3       1500.0          1.0  \n",
      "4          NaN          3.0  \n",
      "   order_id customer_name product  quantity  unit_price  order_date   region\n",
      "0       101         Alice  Laptop       NaN       900.0  2024-05-09  Central\n",
      "1       102          None  Laptop       1.0       300.0  2024-05-07  Central\n",
      "2       103          None  Laptop       1.0       600.0  2024-05-04  Central\n",
      "3       104          None  Tablet       NaN       300.0  2024-05-26  Central\n",
      "4       105         Heidi  Tablet       2.0       600.0  2024-05-21    North\n"
     ]
    }
   ],
   "source": [
    "print(pd.read_parquet('loaded/full_data.parquet').head())\n",
    "print(pd.read_parquet('loaded/incremental_data.parquet').head())"
   ]
  }
 ],
 "metadata": {
  "kernelspec": {
   "display_name": "Python 3",
   "language": "python",
   "name": "python3"
  },
  "language_info": {
   "codemirror_mode": {
    "name": "ipython",
    "version": 3
   },
   "file_extension": ".py",
   "mimetype": "text/x-python",
   "name": "python",
   "nbconvert_exporter": "python",
   "pygments_lexer": "ipython3",
   "version": "3.11.9"
  }
 },
 "nbformat": 4,
 "nbformat_minor": 2
}
