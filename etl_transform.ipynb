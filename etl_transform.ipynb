{
 "cells": [
  {
   "cell_type": "markdown",
   "metadata": {},
   "source": [
    "ETL Transform Phase\n",
    "1. Load the Data"
   ]
  },
  {
   "cell_type": "code",
   "execution_count": 1,
   "metadata": {},
   "outputs": [],
   "source": [
    "import pandas as pd\n",
    "raw_df = pd.read_csv('data/raw_data.csv')\n",
    "inc_df = pd.read_csv('data/incremental_data.csv')"
   ]
  },
  {
   "cell_type": "markdown",
   "metadata": {},
   "source": [
    "2. Remove Duplicates"
   ]
  },
  {
   "cell_type": "markdown",
   "metadata": {},
   "source": [
    "What & Why: Removing duplicate rows ensures that each transaction/order is only counted once, which is important for accurate analysis and reporting."
   ]
  },
  {
   "cell_type": "code",
   "execution_count": 2,
   "metadata": {},
   "outputs": [
    {
     "name": "stdout",
     "output_type": "stream",
     "text": [
      "Duplicates in raw data: 1\n"
     ]
    }
   ],
   "source": [
    "print('Duplicates in raw data:', raw_df.duplicated().sum())"
   ]
  },
  {
   "cell_type": "markdown",
   "metadata": {},
   "source": [
    "after"
   ]
  },
  {
   "cell_type": "code",
   "execution_count": 5,
   "metadata": {},
   "outputs": [],
   "source": [
    "raw_df = raw_df.drop_duplicates()"
   ]
  },
  {
   "cell_type": "markdown",
   "metadata": {},
   "source": [
    " 3.Handle Missing Values"
   ]
  },
  {
   "cell_type": "markdown",
   "metadata": {},
   "source": [
    "What & Why: Handling missing values prevents errors in calculations and analysis. Here, we fill missing quantity and unit_price with 0 (assuming missing means not sold or not priced), and missing customer_name and region with 'Unknown' to retain the row but mark the missing info."
   ]
  },
  {
   "cell_type": "code",
   "execution_count": 6,
   "metadata": {},
   "outputs": [
    {
     "name": "stdout",
     "output_type": "stream",
     "text": [
      "order_id          0\n",
      "customer_name     1\n",
      "product           0\n",
      "quantity         26\n",
      "unit_price       35\n",
      "order_date        1\n",
      "region           25\n",
      "dtype: int64\n"
     ]
    }
   ],
   "source": [
    "print(raw_df.isnull().sum())"
   ]
  },
  {
   "cell_type": "code",
   "execution_count": 7,
   "metadata": {},
   "outputs": [],
   "source": [
    "raw_df = raw_df.fillna({'status': 'Unknown'})"
   ]
  },
  {
   "cell_type": "markdown",
   "metadata": {},
   "source": [
    "4. Add a New Column (total_price)"
   ]
  },
  {
   "cell_type": "markdown",
   "metadata": {},
   "source": [
    "What & Why: Adding a total_price column (quantity × unit_price) helps in analyzing the total value of each order, which is useful for sales and revenue analysis."
   ]
  },
  {
   "cell_type": "code",
   "execution_count": 8,
   "metadata": {},
   "outputs": [
    {
     "name": "stdout",
     "output_type": "stream",
     "text": [
      "   quantity  unit_price\n",
      "0       NaN       500.0\n",
      "1       NaN         NaN\n",
      "2       2.0       250.0\n",
      "3       2.0       750.0\n",
      "4       3.0         NaN\n"
     ]
    }
   ],
   "source": [
    "print(raw_df[['quantity', 'unit_price']].head())"
   ]
  },
  {
   "cell_type": "code",
   "execution_count": 9,
   "metadata": {},
   "outputs": [
    {
     "name": "stdout",
     "output_type": "stream",
     "text": [
      "   quantity  unit_price  total_price\n",
      "0       NaN       500.0          NaN\n",
      "1       NaN         NaN          NaN\n",
      "2       2.0       250.0        500.0\n",
      "3       2.0       750.0       1500.0\n",
      "4       3.0         NaN          NaN\n"
     ]
    }
   ],
   "source": [
    "raw_df['total_price'] = raw_df['quantity'] * raw_df['unit_price']\n",
    "print(raw_df[['quantity', 'unit_price', 'total_price']].head())"
   ]
  },
  {
   "cell_type": "markdown",
   "metadata": {},
   "source": [
    "5. Convert order_date to datetime"
   ]
  },
  {
   "cell_type": "markdown",
   "metadata": {},
   "source": [
    "What & Why: Converting order_date to a datetime type allows for easier date-based analysis, such as filtering by month or year, and ensures consistency in date formatting."
   ]
  },
  {
   "cell_type": "code",
   "execution_count": 10,
   "metadata": {},
   "outputs": [
    {
     "name": "stdout",
     "output_type": "stream",
     "text": [
      "0    2024-01-20\n",
      "1    2024-04-29\n",
      "2    2024-01-08\n",
      "3    2024-01-07\n",
      "4    2024-03-07\n",
      "Name: order_date, dtype: object\n"
     ]
    }
   ],
   "source": [
    "print(raw_df['order_date'].head())"
   ]
  },
  {
   "cell_type": "code",
   "execution_count": 11,
   "metadata": {},
   "outputs": [
    {
     "name": "stdout",
     "output_type": "stream",
     "text": [
      "0   2024-01-20\n",
      "1   2024-04-29\n",
      "2   2024-01-08\n",
      "3   2024-01-07\n",
      "4   2024-03-07\n",
      "Name: order_date, dtype: datetime64[ns]\n"
     ]
    }
   ],
   "source": [
    "raw_df['order_date'] = pd.to_datetime(raw_df['order_date'])\n",
    "print(raw_df['order_date'].head())"
   ]
  },
  {
   "cell_type": "markdown",
   "metadata": {},
   "source": [
    "6. extract order month"
   ]
  },
  {
   "cell_type": "markdown",
   "metadata": {},
   "source": [
    "What & Why: Extracting the month from order_date enables monthly trend analysis, such as identifying peak sales months or seasonal patterns."
   ]
  },
  {
   "cell_type": "code",
   "execution_count": null,
   "metadata": {},
   "outputs": [],
   "source": [
    "print(raw_df['order_date'].head())"
   ]
  },
  {
   "cell_type": "code",
   "execution_count": 15,
   "metadata": {},
   "outputs": [
    {
     "name": "stdout",
     "output_type": "stream",
     "text": [
      "  order_date  order_month\n",
      "0 2024-01-20          1.0\n",
      "1 2024-04-29          4.0\n",
      "2 2024-01-08          1.0\n",
      "3 2024-01-07          1.0\n",
      "4 2024-03-07          3.0\n"
     ]
    }
   ],
   "source": [
    "raw_df['order_month'] = raw_df['order_date'].dt.month\n",
    "print(raw_df[['order_date', 'order_month']].head())"
   ]
  },
  {
   "cell_type": "markdown",
   "metadata": {},
   "source": [
    "7. Save Transformed Data"
   ]
  },
  {
   "cell_type": "code",
   "execution_count": 16,
   "metadata": {},
   "outputs": [],
   "source": [
    "raw_df.to_csv('transformed/transformed_full.csv', index=False)\n",
    "inc_df.to_csv('transformed/transformed_incremental.csv', index=False)"
   ]
  }
 ],
 "metadata": {
  "kernelspec": {
   "display_name": "Python 3",
   "language": "python",
   "name": "python3"
  },
  "language_info": {
   "codemirror_mode": {
    "name": "ipython",
    "version": 3
   },
   "file_extension": ".py",
   "mimetype": "text/x-python",
   "name": "python",
   "nbconvert_exporter": "python",
   "pygments_lexer": "ipython3",
   "version": "3.11.9"
  }
 },
 "nbformat": 4,
 "nbformat_minor": 2
}
